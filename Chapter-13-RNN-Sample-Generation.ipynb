{
 "metadata": {
  "language_info": {
   "codemirror_mode": {
    "name": "ipython",
    "version": 3
   },
   "file_extension": ".py",
   "mimetype": "text/x-python",
   "name": "python",
   "nbconvert_exporter": "python",
   "pygments_lexer": "ipython3",
   "version": "3.8.7-final"
  },
  "orig_nbformat": 2,
  "kernelspec": {
   "name": "python3",
   "display_name": "Python 3",
   "language": "python"
  }
 },
 "nbformat": 4,
 "nbformat_minor": 2,
 "cells": [
  {
   "source": [
    "# Chapter 13: RNN Sample Generation\n",
    "## Chapter 13.1: Generating the Training and Testing Samples for RNN Model"
   ],
   "cell_type": "markdown",
   "metadata": {}
  },
  {
   "cell_type": "code",
   "execution_count": 1,
   "metadata": {},
   "outputs": [],
   "source": [
    "import tensorflow as tf\n",
    "import numpy as np\n",
    "import matplotlib.pyplot as plt"
   ]
  },
  {
   "cell_type": "code",
   "execution_count": 2,
   "metadata": {},
   "outputs": [
    {
     "output_type": "stream",
     "name": "stdout",
     "text": [
      "x =  \n [[1 2 3 4]\n [0 1 2 3]]\ny =  \n [5 4]\n\nx =  \n [[2 3 4 5]\n [3 4 5 6]]\ny =  \n [6 7]\n\nx =  \n [[4 5 6 7]\n [5 6 7 8]]\ny =  \n [8 9]\n\n"
     ]
    }
   ],
   "source": [
    "# 最终结果 RNN网络样本的生成方法\n",
    "dataset = tf.data.Dataset.range(10) # 生成0-9的数组\n",
    "dataset = dataset.window(5, shift=1, drop_remainder=True) # 移动窗口，形成循环数组；删除不完整序列\n",
    "dataset = dataset.flat_map(lambda windows: windows.batch(5)) # 转换为numpy数组\n",
    "dataset = dataset.map(lambda window: (window[:-1], window[-1])) # 分离输入和输出数据\n",
    "dataset = dataset.shuffle(2) # 打乱数据\n",
    "dataset = dataset.batch(2).prefetch(1) # 设置数据批量，每两个数据为一批\n",
    "\n",
    "for x,y in dataset:\n",
    "    print(\"x = \", '\\n',x.numpy())\n",
    "    print(\"y = \", '\\n',y.numpy())\n",
    "    print()"
   ]
  },
  {
   "cell_type": "code",
   "execution_count": 3,
   "metadata": {},
   "outputs": [
    {
     "output_type": "stream",
     "name": "stdout",
     "text": [
      "0\n1\n2\n3\n4\n5\n6\n7\n8\n9\n"
     ]
    }
   ],
   "source": [
    "# 生成0-9的数组\n",
    "dataset = tf.data.Dataset.range(10)\n",
    "for val in dataset:\n",
    "    print(val.numpy())"
   ]
  },
  {
   "cell_type": "code",
   "execution_count": 4,
   "metadata": {},
   "outputs": [
    {
     "output_type": "stream",
     "name": "stdout",
     "text": [
      "01234\n12345\n23456\n34567\n45678\n56789\n6789\n789\n89\n9\n"
     ]
    }
   ],
   "source": [
    "# 移动窗口，形成循环数组\n",
    "dataset = tf.data.Dataset.range(10).window(5, shift=1)\n",
    "for window_dataset in dataset:\n",
    "    for val in window_dataset:\n",
    "        print(val.numpy(), end='')\n",
    "    print()"
   ]
  },
  {
   "cell_type": "code",
   "execution_count": 5,
   "metadata": {},
   "outputs": [
    {
     "output_type": "stream",
     "name": "stdout",
     "text": [
      "01234\n12345\n23456\n34567\n45678\n56789\n"
     ]
    }
   ],
   "source": [
    "# 删除不完整序列\n",
    "dataset = tf.data.Dataset.range(10).window(5, shift=1, drop_remainder=True)\n",
    "for window_dataset in dataset:\n",
    "    for val in window_dataset:\n",
    "        print(val.numpy(), end='')\n",
    "    print()"
   ]
  },
  {
   "cell_type": "code",
   "execution_count": 6,
   "metadata": {},
   "outputs": [
    {
     "output_type": "stream",
     "name": "stdout",
     "text": [
      "01234\n",
      "12345\n",
      "23456\n",
      "34567\n",
      "45678\n",
      "56789\n"
     ]
    }
   ],
   "source": [
    "# 转换为numpy数组\n",
    "dataset = tf.data.Dataset.range(10)\n",
    "dataset = dataset.window(5, shift=1, drop_remainder=True)\n",
    "dataset = dataset.flat_map(lambda windows: windows.batch(5))\n",
    "for window_dataset in dataset:\n",
    "    for val in window_dataset:\n",
    "        print(val.numpy(), end='')\n",
    "    print()"
   ]
  },
  {
   "cell_type": "code",
   "execution_count": 7,
   "metadata": {},
   "outputs": [
    {
     "output_type": "stream",
     "name": "stdout",
     "text": [
      "[0 1 2 3] 4\n[1 2 3 4] 5\n[2 3 4 5] 6\n[3 4 5 6] 7\n[4 5 6 7] 8\n[5 6 7 8] 9\n"
     ]
    }
   ],
   "source": [
    "# 分离输入和输出数据\n",
    "dataset = tf.data.Dataset.range(10)\n",
    "dataset = dataset.window(5, shift=1, drop_remainder=True)\n",
    "dataset = dataset.flat_map(lambda windows: windows.batch(5))\n",
    "dataset = dataset.map(lambda window: (window[:-1], window[-1]))\n",
    "for x,y in dataset:\n",
    "    print(x.numpy(), y.numpy())"
   ]
  },
  {
   "cell_type": "code",
   "execution_count": 8,
   "metadata": {},
   "outputs": [
    {
     "output_type": "stream",
     "name": "stdout",
     "text": [
      "[1 2 3 4] 5\n",
      "[5 6 7 8] 9\n",
      "[4 5 6 7] 8\n",
      "[2 3 4 5] 6\n",
      "[0 1 2 3] 4\n",
      "[3 4 5 6] 7\n"
     ]
    }
   ],
   "source": [
    "# 打乱数据\n",
    "dataset = tf.data.Dataset.range(10)\n",
    "dataset = dataset.window(5, shift=1, drop_remainder=True)\n",
    "dataset = dataset.flat_map(lambda windows: windows.batch(5))\n",
    "dataset = dataset.map(lambda window: (window[:-1], window[-1]))\n",
    "dataset = dataset.shuffle(buffer_size=10)\n",
    "for x,y in dataset:\n",
    "    print(x.numpy(), y.numpy())"
   ]
  },
  {
   "cell_type": "code",
   "execution_count": 9,
   "metadata": {},
   "outputs": [
    {
     "output_type": "stream",
     "name": "stdout",
     "text": [
      "x =  \n [[0 1 2 3]\n [1 2 3 4]]\ny =  \n [4 5]\n\nx =  \n [[3 4 5 6]\n [4 5 6 7]]\ny =  \n [7 8]\n\nx =  \n [[5 6 7 8]\n [2 3 4 5]]\ny =  \n [9 6]\n\n"
     ]
    }
   ],
   "source": [
    "# 设置数据批量，每两个数据为一批\n",
    "dataset = tf.data.Dataset.range(10)\n",
    "dataset = dataset.window(5, shift=1, drop_remainder=True)\n",
    "dataset = dataset.flat_map(lambda windows: windows.batch(5))\n",
    "dataset = dataset.map(lambda window: (window[:-1], window[-1]))\n",
    "dataset = dataset.shuffle(2)\n",
    "dataset = dataset.batch(2).prefetch(1)\n",
    "\n",
    "for x,y in dataset:\n",
    "    print(\"x = \", '\\n',x.numpy())\n",
    "    print(\"y = \", '\\n',y.numpy())\n",
    "    print()"
   ]
  }
 ]
}