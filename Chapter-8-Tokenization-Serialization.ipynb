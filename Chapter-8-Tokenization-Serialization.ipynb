{
 "metadata": {
  "language_info": {
   "codemirror_mode": {
    "name": "ipython",
    "version": 3
   },
   "file_extension": ".py",
   "mimetype": "text/x-python",
   "name": "python",
   "nbconvert_exporter": "python",
   "pygments_lexer": "ipython3",
   "version": "3.8.7-final"
  },
  "orig_nbformat": 2,
  "kernelspec": {
   "name": "python3",
   "display_name": "Python 3.8.7 64-bit",
   "metadata": {
    "interpreter": {
     "hash": "3028cac96903a2e08d0b817c032e424bfed0f402b714e36fbc6370a3018cbf25"
    }
   }
  }
 },
 "nbformat": 4,
 "nbformat_minor": 2,
 "cells": [
  {
   "source": [
    "# Chapter 8 Tokenization and Serialization 词条化和序列化"
   ],
   "cell_type": "markdown",
   "metadata": {}
  },
  {
   "source": [
    "## Sector 8.1 Tokenization 词条化"
   ],
   "cell_type": "markdown",
   "metadata": {}
  },
  {
   "cell_type": "code",
   "execution_count": 3,
   "metadata": {},
   "outputs": [
    {
     "output_type": "stream",
     "name": "stdout",
     "text": [
      "{'i': 1, 'my': 2, 'love': 3, 'dog': 4, 'log': 5, 'cat': 6}\n"
     ]
    }
   ],
   "source": [
    "from tensorflow.keras.preprocessing.text import Tokenizer\n",
    "sentence = [\n",
    "    'I love my dog',\n",
    "    'I log my cat'\n",
    "]\n",
    "tokenizer = Tokenizer(num_words = 100)\n",
    "tokenizer.fit_on_texts(sentence)\n",
    "word_index = tokenizer.word_index\n",
    "print(word_index)"
   ]
  },
  {
   "source": [
    "## Sector 8.2 Serialization 序列化"
   ],
   "cell_type": "markdown",
   "metadata": {}
  },
  {
   "cell_type": "code",
   "execution_count": 6,
   "metadata": {},
   "outputs": [
    {
     "output_type": "stream",
     "name": "stdout",
     "text": [
      "{'love': 1, 'dog': 2, 'i': 3, 'you': 4, 'my': 5, 'cats': 6, 'do': 7, 'think': 8, 'is': 9, 'amazing': 10}\n[[3, 1, 2], [3, 1, 6], [4, 1, 5, 2], [7, 4, 8, 5, 2, 9, 10]]\n[[3, 1, 5, 2], [5, 2, 5]]\n"
     ]
    }
   ],
   "source": [
    "# 基础的序列化模块(Tokenizer)使用 \n",
    "from tensorflow.keras.preprocessing.text import Tokenizer\n",
    "\n",
    "sentences = [\n",
    "    'I love dog',\n",
    "    'I love cats',\n",
    "    'You love my dog?',\n",
    "    'Do you think my dog is amazing!'\n",
    "]\n",
    "\n",
    "tokenizer = Tokenizer(num_words=100)\n",
    "tokenizer.fit_on_texts(sentences)\n",
    "word_index = tokenizer.word_index\n",
    "sequence = tokenizer.texts_to_sequences(sentences)\n",
    "\n",
    "print(word_index)\n",
    "print(sequence)\n",
    "\n",
    "testdata = [\n",
    "    'I really love my dog',\n",
    "    'my dog loves my sisiter'\n",
    "]\n",
    "\n",
    "test_seq = tokenizer.texts_to_sequences(testdata)\n",
    "print(test_seq)\n"
   ]
  },
  {
   "cell_type": "code",
   "execution_count": 7,
   "metadata": {},
   "outputs": [
    {
     "output_type": "stream",
     "name": "stdout",
     "text": [
      "{'<OOV>': 1, 'love': 2, 'dog': 3, 'i': 4, 'you': 5, 'my': 6, 'cats': 7, 'do': 8, 'think': 9, 'is': 10, 'amazing': 11}\n[[4, 2, 3], [4, 2, 7], [5, 2, 6, 3], [8, 5, 9, 6, 3, 10, 11]]\n[[4, 1, 2, 6, 3], [6, 3, 1, 6, 1]]\n"
     ]
    }
   ],
   "source": [
    "# 增加OOV_TOKEN解决测试数据集单词不在训练集字典里面\n",
    "from tensorflow.keras.preprocessing.text import Tokenizer\n",
    "\n",
    "sentences = [\n",
    "    'I love dog',\n",
    "    'I love cats',\n",
    "    'You love my dog?',\n",
    "    'Do you think my dog is amazing!'\n",
    "]\n",
    "\n",
    "tokenizer = Tokenizer(num_words=100, oov_token='<OOV>')\n",
    "tokenizer.fit_on_texts(sentences)\n",
    "word_index = tokenizer.word_index\n",
    "sequence = tokenizer.texts_to_sequences(sentences)\n",
    "\n",
    "print(word_index)\n",
    "print(sequence)\n",
    "\n",
    "testdata = [\n",
    "    'I really love my dog',\n",
    "    'my dog loves my sisiter'\n",
    "]\n",
    "\n",
    "test_seq = tokenizer.texts_to_sequences(testdata)\n",
    "print(test_seq)\n"
   ]
  },
  {
   "cell_type": "code",
   "execution_count": 1,
   "metadata": {},
   "outputs": [
    {
     "output_type": "stream",
     "name": "stdout",
     "text": [
      "{'<OOV>': 1, 'love': 2, 'dog': 3, 'i': 4, 'you': 5, 'my': 6, 'cats': 7, 'do': 8, 'think': 9, 'is': 10, 'amazing': 11}\n[[4, 2, 3], [4, 2, 7], [5, 2, 6, 3], [8, 5, 9, 6, 3, 10, 11]]\n[[ 0  0  0  0  4  2  3]\n [ 0  0  0  0  4  2  7]\n [ 0  0  0  5  2  6  3]\n [ 8  5  9  6  3 10 11]]\n[[4, 1, 2, 6, 3], [6, 3, 1, 6, 1]]\n"
     ]
    }
   ],
   "source": [
    "# 增加padding模块，使序列等长，便于机器学习\n",
    "from tensorflow.keras.preprocessing.text import Tokenizer\n",
    "from tensorflow.keras.preprocessing.sequence import pad_sequences\n",
    "\n",
    "sentences = [\n",
    "    'I love dog',\n",
    "    'I love cats',\n",
    "    'You love my dog?',\n",
    "    'Do you think my dog is amazing!'\n",
    "]\n",
    "\n",
    "tokenizer = Tokenizer(num_words=100, oov_token='<OOV>')\n",
    "tokenizer.fit_on_texts(sentences)\n",
    "word_index = tokenizer.word_index\n",
    "sequence = tokenizer.texts_to_sequences(sentences)\n",
    "\n",
    "padded = pad_sequences(sequence, padding = 'post', maxlen = 4, truncating = 'post')\n",
    "\n",
    "print(word_index)\n",
    "print(sequence)\n",
    "print(pad_sequences(sequence))\n",
    "testdata = [\n",
    "    'I really love my dog',\n",
    "    'my dog loves my sisiter'\n",
    "]\n",
    "\n",
    "test_seq = tokenizer.texts_to_sequences(testdata)\n",
    "print(test_seq)\n"
   ]
  }
 ]
}